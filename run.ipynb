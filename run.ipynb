{
 "cells": [
  {
   "cell_type": "code",
   "execution_count": null,
   "metadata": {},
   "outputs": [],
   "source": [
    "%pip install -U pip setuptools wheel\n",
    "%pip install -U spacy\n"
   ]
  },
  {
   "cell_type": "code",
   "execution_count": null,
   "metadata": {},
   "outputs": [],
   "source": [
    "!python -m spacy download en_core_web_sm\n"
   ]
  },
  {
   "cell_type": "code",
   "execution_count": 13,
   "metadata": {},
   "outputs": [],
   "source": [
    "import spacy\n",
    "import json\n",
    "\n",
    "nlp = spacy.load(\"en_core_web_sm\")\n"
   ]
  },
  {
   "cell_type": "code",
   "execution_count": 39,
   "metadata": {},
   "outputs": [
    {
     "name": "stdout",
     "output_type": "stream",
     "text": [
      "--- Arbroath Abbey\n",
      "--- Abano Terme\n",
      "--- Aeclanum\n",
      "--- Aegadian Islands\n",
      "--- Ajaigarh\n",
      "--- Ajanta Caves\n",
      "--- Ajmer\n",
      "--- Afyonkarahisar\n",
      "--- Abdera, Spain\n",
      "--- Aberavon (UK Parliament constituency)\n",
      "--- Abercarn\n",
      "--- Aberdeen\n",
      "error creating shortDescription\n",
      "--- Actium\n",
      "--- Abadeh\n",
      "--- Abae\n",
      "--- Abakan\n",
      "--- Aswan\n",
      "--- Arapaoa Island\n",
      "--- Ames, Iowa\n",
      "--- Abensberg\n",
      "--- Andes\n",
      "--- Anazarbus\n",
      "--- Anadyr (river)\n",
      "--- Ambracia\n",
      "--- Abydos, Egypt\n",
      "--- Azincourt\n",
      "--- Achill Island\n",
      "--- Abadan, Iran\n",
      "--- Adobe Inc.\n",
      "error creating shortDescription\n",
      "--- Anguilla\n",
      "--- Ashmore and Cartier Islands\n",
      "--- AFC Ajax\n",
      "--- Area 51\n",
      "--- Albion, Michigan\n",
      "--- Alicante\n",
      "--- Austin, Texas\n",
      "--- Crandall University\n",
      "--- Acadia University\n",
      "--- Annapolis Valley\n",
      "--- Alberta\n",
      "--- Ankara\n",
      "--- Aberdeenshire\n",
      "Artikel wurden als JSON gespeichert.\n"
     ]
    }
   ],
   "source": [
    "!node run.js 15\n"
   ]
  },
  {
   "cell_type": "code",
   "execution_count": 14,
   "metadata": {},
   "outputs": [],
   "source": [
    "with open('parsed_articles.json') as file:\n",
    "    parsed_articles = json.load(file)\n"
   ]
  },
  {
   "cell_type": "code",
   "execution_count": 15,
   "metadata": {},
   "outputs": [],
   "source": [
    "def clean_str(string: str):\n",
    "  return string.replace(\n",
    "                '\\n', ' ').replace('  ', ' ').strip()\n"
   ]
  },
  {
   "cell_type": "code",
   "execution_count": 16,
   "metadata": {},
   "outputs": [],
   "source": [
    "articles = []\n",
    "for article in parsed_articles:\n",
    "    doc = nlp(article['history'])\n",
    "    sentences = list(doc.sents)\n",
    "    sentences_with_dates = []\n",
    "\n",
    "    for ent in doc.ents:\n",
    "        if ent.label_ == \"DATE\":\n",
    "            current_sentence = ent.sent\n",
    "            current_index = sentences.index(current_sentence)\n",
    "            current_sentence_text = clean_str(current_sentence.text)\n",
    "\n",
    "            # Hinzufügen des vorherigen Satzes, wenn vorhanden und noch nicht in der Liste\n",
    "            # if current_index > 0 and sentences[current_index - 1].text not in sentences_with_dates:\n",
    "                # sentences_with_dates.append(sentences[current_index - 1].text)\n",
    "\n",
    "            # Hinzufügen des aktuellen Satzes, wenn noch nicht in der Liste\n",
    "            if current_sentence_text not in sentences_with_dates:\n",
    "                sentences_with_dates.append(current_sentence_text)\n",
    "\n",
    "            # Hinzufügen des nachfolgenden Satzes, wenn vorhanden und noch nicht in der Liste\n",
    "            # if current_index < len(sentences) - 1 and sentences[current_index + 1].text not in sentences_with_dates:\n",
    "                # sentences_with_dates.append(sentences[current_index + 1].text)\n",
    "        \n",
    "    article['sentencesWithDates'] = ' '.join(sentences_with_dates)\n",
    "    articles.append(article)\n"
   ]
  },
  {
   "cell_type": "code",
   "execution_count": 17,
   "metadata": {},
   "outputs": [
    {
     "data": {
      "text/plain": [
       "42"
      ]
     },
     "execution_count": 17,
     "metadata": {},
     "output_type": "execute_result"
    }
   ],
   "source": [
    "len(articles)\n"
   ]
  },
  {
   "cell_type": "code",
   "execution_count": 18,
   "metadata": {},
   "outputs": [],
   "source": [
    "import re\n",
    "\n",
    "\n",
    "def remove_first_parentheses_in_first_sentence(text):\n",
    "    sentences = re.split(r'(?<=[.!?])\\s+', text, maxsplit=1)\n",
    "    first_sentence = sentences[0]\n",
    "    remaining_text = sentences[1] if len(sentences) > 1 else ''\n",
    "    cleaned_first_sentence = re.sub(r'\\(.*?\\)', '', first_sentence, count=1)\n",
    "    return cleaned_first_sentence + ' ' + remaining_text\n"
   ]
  },
  {
   "cell_type": "code",
   "execution_count": 19,
   "metadata": {},
   "outputs": [],
   "source": [
    "cleaned_articles = []\n",
    "for article in articles:\n",
    "    if 'history' in article:\n",
    "        article['history'] = article['history']\n",
    "    if 'title' in article:\n",
    "        article['title'] = article['title']\n",
    "    if 'shortDescription' in article:\n",
    "        article['shortDescription'] = article['shortDescription']\n",
    "    if 'description' in article:\n",
    "        article['description'] = article['description']\n",
    "\n",
    "    cleaned_articles.append(article)\n"
   ]
  },
  {
   "cell_type": "code",
   "execution_count": 20,
   "metadata": {},
   "outputs": [],
   "source": [
    "with open('articles_with_dates.json', 'w') as file:\n",
    "    json.dump(cleaned_articles, file, ensure_ascii=False,)\n"
   ]
  },
  {
   "cell_type": "code",
   "execution_count": null,
   "metadata": {},
   "outputs": [],
   "source": [
    "for article in articles:\n",
    "    print(\n",
    "        article['title'], len(article['history']), len(article['sentencesWithDates']))\n",
    "    print('------------------')\n"
   ]
  },
  {
   "cell_type": "code",
   "execution_count": null,
   "metadata": {},
   "outputs": [],
   "source": [
    "%pip install openai python-dotenv\n"
   ]
  },
  {
   "cell_type": "code",
   "execution_count": 8,
   "metadata": {},
   "outputs": [],
   "source": [
    "from openai import OpenAI\n",
    "from dotenv import load_dotenv\n",
    "import os\n",
    "\n",
    "load_dotenv()\n",
    "client = OpenAI(\n",
    "  api_key=os.getenv(\"OPENAI_API_KEY\")\n",
    ")\n"
   ]
  },
  {
   "cell_type": "code",
   "execution_count": 11,
   "metadata": {},
   "outputs": [],
   "source": [
    "def get_messages(text):\n",
    "  return [\n",
    "    {\n",
    "      \"role\": 'system',\n",
    "      \"content\": 'Your task is to extract dates and related event information from the provided text.',\n",
    "    },\n",
    "    {\n",
    "      \"role\": 'user',\n",
    "      \"content\": f'Extract dates from this text: {text}',\n",
    "    },\n",
    "  ]\n",
    "  "
   ]
  },
  {
   "cell_type": "code",
   "execution_count": 5,
   "metadata": {},
   "outputs": [],
   "source": [
    "tools = [\n",
    "    {\"type\": \"function\",\n",
    "     \"function\": {\n",
    "         \"name\": 'extract_dates',\n",
    "         \"description\": 'Extracts dates and related information from text.',\n",
    "         \"parameters\": {\n",
    "             \"type\": 'array',\n",
    "             \"description\": 'Extracted dates',\n",
    "             \"items\": {\n",
    "                        \"type\": 'object',\n",
    "                        \"properties\": {\n",
    "                            \"shortTitle\": {\n",
    "                                \"type\": 'string',\n",
    "                                \"description\": \"Title of the event. NOT LONGER THAN 3 WORDS\"\n",
    "                            },\n",
    "                            \"description\": {\n",
    "                                \"type\": 'string',\n",
    "                                \"description\": 'Description of the event. NOT LONGER THAN 3 SENTENCES',\n",
    "                            },\n",
    "                            \"dates\": {\n",
    "                                \"type\": 'array',\n",
    "                                \"description\": 'Dates of the event. One date if it is a point in time, two if it is a period of time',\n",
    "                                \"items\": {\n",
    "                                    \"type\": 'object',\n",
    "                                    \"properties\": {\n",
    "                                        \"date\": {\n",
    "                                            \"type\": 'string',\n",
    "                                            \"description\": 'Date of the event. ALWAYS IN YYYY-MM-DD FORMAT',\n",
    "                                        },\n",
    "                                        \"scale\": {\n",
    "                                            \"type\": 'string',\n",
    "                                            \"description\": 'Scale of the event',\n",
    "                                            \"enum\": [\n",
    "                                                \"day\",\n",
    "                                                \"month\",\n",
    "                                                \"year\",\n",
    "                                                \"decade\",\n",
    "                                                \"century\",\n",
    "                                                \"millennium\"\n",
    "                                            ]\n",
    "                                        },\n",
    "                                    }\n",
    "                                }\n",
    "                            }\n",
    "                        }\n",
    "             },\n",
    "         },\n",
    "     }, }\n",
    "]\n"
   ]
  },
  {
   "cell_type": "code",
   "execution_count": 21,
   "metadata": {},
   "outputs": [
    {
     "ename": "BadRequestError",
     "evalue": "Error code: 400 - {'error': {'message': \"'$.tool_choice' is invalid. Please check the API reference: https://platform.openai.com/docs/api-reference.\", 'type': 'invalid_request_error', 'param': None, 'code': None}}",
     "output_type": "error",
     "traceback": [
      "\u001b[0;31m---------------------------------------------------------------------------\u001b[0m",
      "\u001b[0;31mBadRequestError\u001b[0m                           Traceback (most recent call last)",
      "\u001b[1;32m/Users/gormlabenz/Documents/labenz-io/000_Repositorys/WikiXMLDumpToJSON/run.ipynb Cell 17\u001b[0m line \u001b[0;36m1\n\u001b[0;32m----> <a href='vscode-notebook-cell:/Users/gormlabenz/Documents/labenz-io/000_Repositorys/WikiXMLDumpToJSON/run.ipynb#X22sZmlsZQ%3D%3D?line=0'>1</a>\u001b[0m response \u001b[39m=\u001b[39m client\u001b[39m.\u001b[39;49mchat\u001b[39m.\u001b[39;49mcompletions\u001b[39m.\u001b[39;49mcreate(\n\u001b[1;32m      <a href='vscode-notebook-cell:/Users/gormlabenz/Documents/labenz-io/000_Repositorys/WikiXMLDumpToJSON/run.ipynb#X22sZmlsZQ%3D%3D?line=1'>2</a>\u001b[0m     model\u001b[39m=\u001b[39;49m\u001b[39m\"\u001b[39;49m\u001b[39mgpt-3.5-turbo-1106\u001b[39;49m\u001b[39m\"\u001b[39;49m,\n\u001b[1;32m      <a href='vscode-notebook-cell:/Users/gormlabenz/Documents/labenz-io/000_Repositorys/WikiXMLDumpToJSON/run.ipynb#X22sZmlsZQ%3D%3D?line=2'>3</a>\u001b[0m     messages\u001b[39m=\u001b[39;49mget_messages(cleaned_articles[\u001b[39m0\u001b[39;49m][\u001b[39m'\u001b[39;49m\u001b[39msentencesWithDates\u001b[39;49m\u001b[39m'\u001b[39;49m]),\n\u001b[1;32m      <a href='vscode-notebook-cell:/Users/gormlabenz/Documents/labenz-io/000_Repositorys/WikiXMLDumpToJSON/run.ipynb#X22sZmlsZQ%3D%3D?line=3'>4</a>\u001b[0m     tools\u001b[39m=\u001b[39;49mtools,\n\u001b[1;32m      <a href='vscode-notebook-cell:/Users/gormlabenz/Documents/labenz-io/000_Repositorys/WikiXMLDumpToJSON/run.ipynb#X22sZmlsZQ%3D%3D?line=4'>5</a>\u001b[0m     tool_choice\u001b[39m=\u001b[39;49m\u001b[39m\"\u001b[39;49m\u001b[39mextract_dates\u001b[39;49m\u001b[39m\"\u001b[39;49m\n\u001b[1;32m      <a href='vscode-notebook-cell:/Users/gormlabenz/Documents/labenz-io/000_Repositorys/WikiXMLDumpToJSON/run.ipynb#X22sZmlsZQ%3D%3D?line=5'>6</a>\u001b[0m )\n\u001b[1;32m      <a href='vscode-notebook-cell:/Users/gormlabenz/Documents/labenz-io/000_Repositorys/WikiXMLDumpToJSON/run.ipynb#X22sZmlsZQ%3D%3D?line=6'>7</a>\u001b[0m response\n",
      "File \u001b[0;32m~/Documents/labenz-io/000_Repositorys/WikiXMLDumpToJSON/venv/lib/python3.11/site-packages/openai/_utils/_utils.py:299\u001b[0m, in \u001b[0;36mrequired_args.<locals>.inner.<locals>.wrapper\u001b[0;34m(*args, **kwargs)\u001b[0m\n\u001b[1;32m    297\u001b[0m             msg \u001b[39m=\u001b[39m \u001b[39mf\u001b[39m\u001b[39m\"\u001b[39m\u001b[39mMissing required argument: \u001b[39m\u001b[39m{\u001b[39;00mquote(missing[\u001b[39m0\u001b[39m])\u001b[39m}\u001b[39;00m\u001b[39m\"\u001b[39m\n\u001b[1;32m    298\u001b[0m     \u001b[39mraise\u001b[39;00m \u001b[39mTypeError\u001b[39;00m(msg)\n\u001b[0;32m--> 299\u001b[0m \u001b[39mreturn\u001b[39;00m func(\u001b[39m*\u001b[39;49margs, \u001b[39m*\u001b[39;49m\u001b[39m*\u001b[39;49mkwargs)\n",
      "File \u001b[0;32m~/Documents/labenz-io/000_Repositorys/WikiXMLDumpToJSON/venv/lib/python3.11/site-packages/openai/resources/chat/completions.py:598\u001b[0m, in \u001b[0;36mCompletions.create\u001b[0;34m(self, messages, model, frequency_penalty, function_call, functions, logit_bias, max_tokens, n, presence_penalty, response_format, seed, stop, stream, temperature, tool_choice, tools, top_p, user, extra_headers, extra_query, extra_body, timeout)\u001b[0m\n\u001b[1;32m    551\u001b[0m \u001b[39m@required_args\u001b[39m([\u001b[39m\"\u001b[39m\u001b[39mmessages\u001b[39m\u001b[39m\"\u001b[39m, \u001b[39m\"\u001b[39m\u001b[39mmodel\u001b[39m\u001b[39m\"\u001b[39m], [\u001b[39m\"\u001b[39m\u001b[39mmessages\u001b[39m\u001b[39m\"\u001b[39m, \u001b[39m\"\u001b[39m\u001b[39mmodel\u001b[39m\u001b[39m\"\u001b[39m, \u001b[39m\"\u001b[39m\u001b[39mstream\u001b[39m\u001b[39m\"\u001b[39m])\n\u001b[1;32m    552\u001b[0m \u001b[39mdef\u001b[39;00m \u001b[39mcreate\u001b[39m(\n\u001b[1;32m    553\u001b[0m     \u001b[39mself\u001b[39m,\n\u001b[0;32m   (...)\u001b[0m\n\u001b[1;32m    596\u001b[0m     timeout: \u001b[39mfloat\u001b[39m \u001b[39m|\u001b[39m httpx\u001b[39m.\u001b[39mTimeout \u001b[39m|\u001b[39m \u001b[39mNone\u001b[39;00m \u001b[39m|\u001b[39m NotGiven \u001b[39m=\u001b[39m NOT_GIVEN,\n\u001b[1;32m    597\u001b[0m ) \u001b[39m-\u001b[39m\u001b[39m>\u001b[39m ChatCompletion \u001b[39m|\u001b[39m Stream[ChatCompletionChunk]:\n\u001b[0;32m--> 598\u001b[0m     \u001b[39mreturn\u001b[39;00m \u001b[39mself\u001b[39;49m\u001b[39m.\u001b[39;49m_post(\n\u001b[1;32m    599\u001b[0m         \u001b[39m\"\u001b[39;49m\u001b[39m/chat/completions\u001b[39;49m\u001b[39m\"\u001b[39;49m,\n\u001b[1;32m    600\u001b[0m         body\u001b[39m=\u001b[39;49mmaybe_transform(\n\u001b[1;32m    601\u001b[0m             {\n\u001b[1;32m    602\u001b[0m                 \u001b[39m\"\u001b[39;49m\u001b[39mmessages\u001b[39;49m\u001b[39m\"\u001b[39;49m: messages,\n\u001b[1;32m    603\u001b[0m                 \u001b[39m\"\u001b[39;49m\u001b[39mmodel\u001b[39;49m\u001b[39m\"\u001b[39;49m: model,\n\u001b[1;32m    604\u001b[0m                 \u001b[39m\"\u001b[39;49m\u001b[39mfrequency_penalty\u001b[39;49m\u001b[39m\"\u001b[39;49m: frequency_penalty,\n\u001b[1;32m    605\u001b[0m                 \u001b[39m\"\u001b[39;49m\u001b[39mfunction_call\u001b[39;49m\u001b[39m\"\u001b[39;49m: function_call,\n\u001b[1;32m    606\u001b[0m                 \u001b[39m\"\u001b[39;49m\u001b[39mfunctions\u001b[39;49m\u001b[39m\"\u001b[39;49m: functions,\n\u001b[1;32m    607\u001b[0m                 \u001b[39m\"\u001b[39;49m\u001b[39mlogit_bias\u001b[39;49m\u001b[39m\"\u001b[39;49m: logit_bias,\n\u001b[1;32m    608\u001b[0m                 \u001b[39m\"\u001b[39;49m\u001b[39mmax_tokens\u001b[39;49m\u001b[39m\"\u001b[39;49m: max_tokens,\n\u001b[1;32m    609\u001b[0m                 \u001b[39m\"\u001b[39;49m\u001b[39mn\u001b[39;49m\u001b[39m\"\u001b[39;49m: n,\n\u001b[1;32m    610\u001b[0m                 \u001b[39m\"\u001b[39;49m\u001b[39mpresence_penalty\u001b[39;49m\u001b[39m\"\u001b[39;49m: presence_penalty,\n\u001b[1;32m    611\u001b[0m                 \u001b[39m\"\u001b[39;49m\u001b[39mresponse_format\u001b[39;49m\u001b[39m\"\u001b[39;49m: response_format,\n\u001b[1;32m    612\u001b[0m                 \u001b[39m\"\u001b[39;49m\u001b[39mseed\u001b[39;49m\u001b[39m\"\u001b[39;49m: seed,\n\u001b[1;32m    613\u001b[0m                 \u001b[39m\"\u001b[39;49m\u001b[39mstop\u001b[39;49m\u001b[39m\"\u001b[39;49m: stop,\n\u001b[1;32m    614\u001b[0m                 \u001b[39m\"\u001b[39;49m\u001b[39mstream\u001b[39;49m\u001b[39m\"\u001b[39;49m: stream,\n\u001b[1;32m    615\u001b[0m                 \u001b[39m\"\u001b[39;49m\u001b[39mtemperature\u001b[39;49m\u001b[39m\"\u001b[39;49m: temperature,\n\u001b[1;32m    616\u001b[0m                 \u001b[39m\"\u001b[39;49m\u001b[39mtool_choice\u001b[39;49m\u001b[39m\"\u001b[39;49m: tool_choice,\n\u001b[1;32m    617\u001b[0m                 \u001b[39m\"\u001b[39;49m\u001b[39mtools\u001b[39;49m\u001b[39m\"\u001b[39;49m: tools,\n\u001b[1;32m    618\u001b[0m                 \u001b[39m\"\u001b[39;49m\u001b[39mtop_p\u001b[39;49m\u001b[39m\"\u001b[39;49m: top_p,\n\u001b[1;32m    619\u001b[0m                 \u001b[39m\"\u001b[39;49m\u001b[39muser\u001b[39;49m\u001b[39m\"\u001b[39;49m: user,\n\u001b[1;32m    620\u001b[0m             },\n\u001b[1;32m    621\u001b[0m             completion_create_params\u001b[39m.\u001b[39;49mCompletionCreateParams,\n\u001b[1;32m    622\u001b[0m         ),\n\u001b[1;32m    623\u001b[0m         options\u001b[39m=\u001b[39;49mmake_request_options(\n\u001b[1;32m    624\u001b[0m             extra_headers\u001b[39m=\u001b[39;49mextra_headers, extra_query\u001b[39m=\u001b[39;49mextra_query, extra_body\u001b[39m=\u001b[39;49mextra_body, timeout\u001b[39m=\u001b[39;49mtimeout\n\u001b[1;32m    625\u001b[0m         ),\n\u001b[1;32m    626\u001b[0m         cast_to\u001b[39m=\u001b[39;49mChatCompletion,\n\u001b[1;32m    627\u001b[0m         stream\u001b[39m=\u001b[39;49mstream \u001b[39mor\u001b[39;49;00m \u001b[39mFalse\u001b[39;49;00m,\n\u001b[1;32m    628\u001b[0m         stream_cls\u001b[39m=\u001b[39;49mStream[ChatCompletionChunk],\n\u001b[1;32m    629\u001b[0m     )\n",
      "File \u001b[0;32m~/Documents/labenz-io/000_Repositorys/WikiXMLDumpToJSON/venv/lib/python3.11/site-packages/openai/_base_client.py:1063\u001b[0m, in \u001b[0;36mSyncAPIClient.post\u001b[0;34m(self, path, cast_to, body, options, files, stream, stream_cls)\u001b[0m\n\u001b[1;32m   1049\u001b[0m \u001b[39mdef\u001b[39;00m \u001b[39mpost\u001b[39m(\n\u001b[1;32m   1050\u001b[0m     \u001b[39mself\u001b[39m,\n\u001b[1;32m   1051\u001b[0m     path: \u001b[39mstr\u001b[39m,\n\u001b[0;32m   (...)\u001b[0m\n\u001b[1;32m   1058\u001b[0m     stream_cls: \u001b[39mtype\u001b[39m[_StreamT] \u001b[39m|\u001b[39m \u001b[39mNone\u001b[39;00m \u001b[39m=\u001b[39m \u001b[39mNone\u001b[39;00m,\n\u001b[1;32m   1059\u001b[0m ) \u001b[39m-\u001b[39m\u001b[39m>\u001b[39m ResponseT \u001b[39m|\u001b[39m _StreamT:\n\u001b[1;32m   1060\u001b[0m     opts \u001b[39m=\u001b[39m FinalRequestOptions\u001b[39m.\u001b[39mconstruct(\n\u001b[1;32m   1061\u001b[0m         method\u001b[39m=\u001b[39m\u001b[39m\"\u001b[39m\u001b[39mpost\u001b[39m\u001b[39m\"\u001b[39m, url\u001b[39m=\u001b[39mpath, json_data\u001b[39m=\u001b[39mbody, files\u001b[39m=\u001b[39mto_httpx_files(files), \u001b[39m*\u001b[39m\u001b[39m*\u001b[39moptions\n\u001b[1;32m   1062\u001b[0m     )\n\u001b[0;32m-> 1063\u001b[0m     \u001b[39mreturn\u001b[39;00m cast(ResponseT, \u001b[39mself\u001b[39;49m\u001b[39m.\u001b[39;49mrequest(cast_to, opts, stream\u001b[39m=\u001b[39;49mstream, stream_cls\u001b[39m=\u001b[39;49mstream_cls))\n",
      "File \u001b[0;32m~/Documents/labenz-io/000_Repositorys/WikiXMLDumpToJSON/venv/lib/python3.11/site-packages/openai/_base_client.py:842\u001b[0m, in \u001b[0;36mSyncAPIClient.request\u001b[0;34m(self, cast_to, options, remaining_retries, stream, stream_cls)\u001b[0m\n\u001b[1;32m    833\u001b[0m \u001b[39mdef\u001b[39;00m \u001b[39mrequest\u001b[39m(\n\u001b[1;32m    834\u001b[0m     \u001b[39mself\u001b[39m,\n\u001b[1;32m    835\u001b[0m     cast_to: Type[ResponseT],\n\u001b[0;32m   (...)\u001b[0m\n\u001b[1;32m    840\u001b[0m     stream_cls: \u001b[39mtype\u001b[39m[_StreamT] \u001b[39m|\u001b[39m \u001b[39mNone\u001b[39;00m \u001b[39m=\u001b[39m \u001b[39mNone\u001b[39;00m,\n\u001b[1;32m    841\u001b[0m ) \u001b[39m-\u001b[39m\u001b[39m>\u001b[39m ResponseT \u001b[39m|\u001b[39m _StreamT:\n\u001b[0;32m--> 842\u001b[0m     \u001b[39mreturn\u001b[39;00m \u001b[39mself\u001b[39;49m\u001b[39m.\u001b[39;49m_request(\n\u001b[1;32m    843\u001b[0m         cast_to\u001b[39m=\u001b[39;49mcast_to,\n\u001b[1;32m    844\u001b[0m         options\u001b[39m=\u001b[39;49moptions,\n\u001b[1;32m    845\u001b[0m         stream\u001b[39m=\u001b[39;49mstream,\n\u001b[1;32m    846\u001b[0m         stream_cls\u001b[39m=\u001b[39;49mstream_cls,\n\u001b[1;32m    847\u001b[0m         remaining_retries\u001b[39m=\u001b[39;49mremaining_retries,\n\u001b[1;32m    848\u001b[0m     )\n",
      "File \u001b[0;32m~/Documents/labenz-io/000_Repositorys/WikiXMLDumpToJSON/venv/lib/python3.11/site-packages/openai/_base_client.py:885\u001b[0m, in \u001b[0;36mSyncAPIClient._request\u001b[0;34m(self, cast_to, options, remaining_retries, stream, stream_cls)\u001b[0m\n\u001b[1;32m    882\u001b[0m     \u001b[39m# If the response is streamed then we need to explicitly read the response\u001b[39;00m\n\u001b[1;32m    883\u001b[0m     \u001b[39m# to completion before attempting to access the response text.\u001b[39;00m\n\u001b[1;32m    884\u001b[0m     err\u001b[39m.\u001b[39mresponse\u001b[39m.\u001b[39mread()\n\u001b[0;32m--> 885\u001b[0m     \u001b[39mraise\u001b[39;00m \u001b[39mself\u001b[39m\u001b[39m.\u001b[39m_make_status_error_from_response(err\u001b[39m.\u001b[39mresponse) \u001b[39mfrom\u001b[39;00m \u001b[39mNone\u001b[39;00m\n\u001b[1;32m    886\u001b[0m \u001b[39mexcept\u001b[39;00m httpx\u001b[39m.\u001b[39mTimeoutException \u001b[39mas\u001b[39;00m err:\n\u001b[1;32m    887\u001b[0m     \u001b[39mif\u001b[39;00m retries \u001b[39m>\u001b[39m \u001b[39m0\u001b[39m:\n",
      "\u001b[0;31mBadRequestError\u001b[0m: Error code: 400 - {'error': {'message': \"'$.tool_choice' is invalid. Please check the API reference: https://platform.openai.com/docs/api-reference.\", 'type': 'invalid_request_error', 'param': None, 'code': None}}"
     ]
    }
   ],
   "source": [
    "response = client.chat.completions.create(\n",
    "    model=\"gpt-3.5-turbo-1106\",\n",
    "    messages=get_messages(cleaned_articles[0]['sentencesWithDates']),\n",
    "    tools=tools,\n",
    "    tool_choice=\"extract_dates\"\n",
    ")\n",
    "response\n"
   ]
  },
  {
   "cell_type": "code",
   "execution_count": null,
   "metadata": {},
   "outputs": [],
   "source": []
  }
 ],
 "metadata": {
  "kernelspec": {
   "display_name": "venv",
   "language": "python",
   "name": "python3"
  },
  "language_info": {
   "codemirror_mode": {
    "name": "ipython",
    "version": 3
   },
   "file_extension": ".py",
   "mimetype": "text/x-python",
   "name": "python",
   "nbconvert_exporter": "python",
   "pygments_lexer": "ipython3",
   "version": "3.11.5"
  }
 },
 "nbformat": 4,
 "nbformat_minor": 2
}
